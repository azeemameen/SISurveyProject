{
 "cells": [
  {
   "cell_type": "code",
   "execution_count": 1,
   "metadata": {},
   "outputs": [],
   "source": [
    "import numpy as np\n",
    "import pandas as pd\n",
    "import seaborn as sns\n",
    "import matplotlib.pyplot as plt\n",
    "import scipy.stats.distributions as dist"
   ]
  },
  {
   "cell_type": "code",
   "execution_count": 2,
   "metadata": {},
   "outputs": [],
   "source": [
    "df = pd.read_excel(\"Responses.xlsx\")"
   ]
  },
  {
   "cell_type": "code",
   "execution_count": 3,
   "metadata": {},
   "outputs": [],
   "source": [
    "df.columns=['No','Gender','Age','Ethnicity','Location','Education','Employment','Income','Usage','Duration','Frequency','Services Used','Secutity Rank','Ease of use Rank','Features Rank','Customer Service Rank','Availability Rank','Ease of Use LS', 'UI LS','Security Threats LS', 'Security Feastures LS','Data Security LS','Functionality Awareness LS','Functionality Usage LS','Availablity LS','BP Support LS','Charges LS','Time Saving LS','Score','Reason for Score']\n"
   ]
  },
  {
   "cell_type": "code",
   "execution_count": 4,
   "metadata": {},
   "outputs": [],
   "source": [
    "df['Use']=df['Usage'].apply(lambda x: 1 if x=='Yes' else 0)"
   ]
  },
  {
   "cell_type": "code",
   "execution_count": null,
   "metadata": {},
   "outputs": [],
   "source": []
  },
  {
   "cell_type": "markdown",
   "metadata": {},
   "source": [
    "# Factors Associated with Usage of Mobile Banking Application"
   ]
  },
  {
   "cell_type": "code",
   "execution_count": 5,
   "metadata": {},
   "outputs": [
    {
     "data": {
      "text/plain": [
       "Male      89\n",
       "Female    66\n",
       "Name: Gender, dtype: int64"
      ]
     },
     "execution_count": 5,
     "metadata": {},
     "output_type": "execute_result"
    }
   ],
   "source": [
    "df[\"Gender\"].value_counts()"
   ]
  },
  {
   "cell_type": "code",
   "execution_count": 6,
   "metadata": {},
   "outputs": [
    {
     "data": {
      "text/plain": [
       "24-39       105\n",
       "40-60        20\n",
       "18-23        19\n",
       "Above 60     11\n",
       "Name: Age, dtype: int64"
      ]
     },
     "execution_count": 6,
     "metadata": {},
     "output_type": "execute_result"
    }
   ],
   "source": [
    "df[\"Age\"].value_counts()"
   ]
  },
  {
   "cell_type": "code",
   "execution_count": 7,
   "metadata": {},
   "outputs": [
    {
     "data": {
      "text/plain": [
       "Muslim       69\n",
       "Sinhalese    61\n",
       "Tamil        20\n",
       "Burgher       5\n",
       "Name: Ethnicity, dtype: int64"
      ]
     },
     "execution_count": 7,
     "metadata": {},
     "output_type": "execute_result"
    }
   ],
   "source": [
    "df[\"Ethnicity\"].value_counts()"
   ]
  },
  {
   "cell_type": "code",
   "execution_count": 8,
   "metadata": {},
   "outputs": [
    {
     "data": {
      "text/plain": [
       "Degree or Equivalent or higher    114\n",
       "Completed A/Ls                     37\n",
       "Completed O/Ls                      4\n",
       "Name: Education, dtype: int64"
      ]
     },
     "execution_count": 8,
     "metadata": {},
     "output_type": "execute_result"
    }
   ],
   "source": [
    "df[\"Education\"].value_counts() "
   ]
  },
  {
   "cell_type": "code",
   "execution_count": 9,
   "metadata": {},
   "outputs": [
    {
     "data": {
      "text/plain": [
       "Employed in Private Sector    100\n",
       "Self-employed                  22\n",
       "Employed in Public Sector      19\n",
       "Unemployed                     14\n",
       "Name: Employment, dtype: int64"
      ]
     },
     "execution_count": 9,
     "metadata": {},
     "output_type": "execute_result"
    }
   ],
   "source": [
    "df[\"Employment\"].value_counts()  "
   ]
  },
  {
   "cell_type": "code",
   "execution_count": 10,
   "metadata": {},
   "outputs": [
    {
     "data": {
      "text/plain": [
       "Rs 50,001-Rs 100,000    63\n",
       "Above Rs 100,000        44\n",
       "Rs 20,001- Rs 50,000    30\n",
       "Prefer not to answer    12\n",
       "Below Rs 20,000          6\n",
       "Name: Income, dtype: int64"
      ]
     },
     "execution_count": 10,
     "metadata": {},
     "output_type": "execute_result"
    }
   ],
   "source": [
    "df[\"Income\"].value_counts() "
   ]
  },
  {
   "cell_type": "code",
   "execution_count": 11,
   "metadata": {},
   "outputs": [
    {
     "data": {
      "text/plain": [
       "Yes                                                 108\n",
       "No, I'm aware of mobile banking applications         36\n",
       "No, I'm not aware of mobile banking applications     11\n",
       "Name: Usage, dtype: int64"
      ]
     },
     "execution_count": 11,
     "metadata": {},
     "output_type": "execute_result"
    }
   ],
   "source": [
    "df[\"Usage\"].value_counts()"
   ]
  },
  {
   "cell_type": "code",
   "execution_count": 12,
   "metadata": {},
   "outputs": [
    {
     "data": {
      "text/plain": [
       "1    108\n",
       "0     47\n",
       "Name: Use, dtype: int64"
      ]
     },
     "execution_count": 12,
     "metadata": {},
     "output_type": "execute_result"
    }
   ],
   "source": [
    "df[\"Use\"].value_counts()"
   ]
  },
  {
   "cell_type": "code",
   "execution_count": 13,
   "metadata": {},
   "outputs": [
    {
     "data": {
      "text/plain": [
       "Gender  Use\n",
       "Female  0      23\n",
       "        1      43\n",
       "Male    0      24\n",
       "        1      65\n",
       "Name: Use, dtype: int64"
      ]
     },
     "execution_count": 13,
     "metadata": {},
     "output_type": "execute_result"
    }
   ],
   "source": [
    "df.groupby(['Gender','Use'])['Use'].count()"
   ]
  },
  {
   "cell_type": "code",
   "execution_count": 14,
   "metadata": {},
   "outputs": [
    {
     "data": {
      "text/plain": [
       "Gender\n",
       "Female    0.651515\n",
       "Male      0.730337\n",
       "Name: Use, dtype: float64"
      ]
     },
     "execution_count": 14,
     "metadata": {},
     "output_type": "execute_result"
    }
   ],
   "source": [
    "df[['Gender','Use']].groupby('Gender')['Use'].mean()"
   ]
  },
  {
   "cell_type": "code",
   "execution_count": 15,
   "metadata": {},
   "outputs": [
    {
     "data": {
      "text/plain": [
       "Age\n",
       "18-23       0.894737\n",
       "24-39       0.714286\n",
       "40-60       0.650000\n",
       "Above 60    0.272727\n",
       "Name: Use, dtype: float64"
      ]
     },
     "execution_count": 15,
     "metadata": {},
     "output_type": "execute_result"
    }
   ],
   "source": [
    "df[['Age','Use']].groupby('Age')['Use'].mean()"
   ]
  },
  {
   "cell_type": "code",
   "execution_count": 16,
   "metadata": {},
   "outputs": [
    {
     "data": {
      "text/plain": [
       "Ethnicity\n",
       "Burgher      0.400000\n",
       "Muslim       0.666667\n",
       "Sinhalese    0.770492\n",
       "Tamil        0.650000\n",
       "Name: Use, dtype: float64"
      ]
     },
     "execution_count": 16,
     "metadata": {},
     "output_type": "execute_result"
    }
   ],
   "source": [
    "df[['Ethnicity','Use']].groupby('Ethnicity')['Use'].mean()"
   ]
  },
  {
   "cell_type": "code",
   "execution_count": 17,
   "metadata": {},
   "outputs": [
    {
     "data": {
      "text/plain": [
       "Income\n",
       "Above Rs 100,000        0.818182\n",
       "Below Rs 20,000         0.666667\n",
       "Prefer not to answer    0.583333\n",
       "Rs 20,001- Rs 50,000    0.533333\n",
       "Rs 50,001-Rs 100,000    0.714286\n",
       "Name: Use, dtype: float64"
      ]
     },
     "execution_count": 17,
     "metadata": {},
     "output_type": "execute_result"
    }
   ],
   "source": [
    "df[['Income','Use']].groupby('Income')['Use'].mean()"
   ]
  },
  {
   "cell_type": "code",
   "execution_count": 18,
   "metadata": {},
   "outputs": [],
   "source": [
    "df.shape\n",
    "total = df.shape[0]"
   ]
  },
  {
   "cell_type": "code",
   "execution_count": 19,
   "metadata": {},
   "outputs": [
    {
     "name": "stderr",
     "output_type": "stream",
     "text": [
      "C:\\Users\\AzeemA\\Anaconda3\\lib\\site-packages\\seaborn\\_decorators.py:36: FutureWarning: Pass the following variable as a keyword arg: x. From version 0.12, the only valid positional argument will be `data`, and passing other arguments without an explicit keyword will result in an error or misinterpretation.\n",
      "  warnings.warn(\n"
     ]
    },
    {
     "data": {
      "image/png": "[encoded data removed]",
      "text/plain": [
       "<Figure size 432x288 with 1 Axes>"
      ]
     },
     "metadata": {
      "needs_background": "light"
     },
     "output_type": "display_data"
    }
   ],
   "source": [
    "# Usage Propotion Chart\n",
    "plt.title('Propotion of Mobile Application Usage')\n",
    "plt.xlabel('Number of Axles')\n",
    "sns.set(rc={'figure.figsize':(10,8)})\n",
    "ax = sns.countplot(df['Use'])\n",
    "ax.set_ylabel('Number of Respondents')\n",
    "for p in ax.patches:\n",
    "    height = p.get_height()\n",
    "    ax.text(p.get_x()+p.get_width()/2.,\n",
    "            height + 1,\n",
    "            '{:1.2f}%'.format(height/total * 100),\n",
    "            ha=\"center\")"
   ]
  },
  {
   "cell_type": "code",
   "execution_count": 20,
   "metadata": {},
   "outputs": [],
   "source": [
    "a=df[['Gender','Use']].groupby('Gender')['Use'].mean()"
   ]
  },
  {
   "cell_type": "code",
   "execution_count": 21,
   "metadata": {},
   "outputs": [
    {
     "data": {
      "text/plain": [
       "Gender\n",
       "Female    0.651515\n",
       "Male      0.730337\n",
       "Name: Use, dtype: float64"
      ]
     },
     "execution_count": 21,
     "metadata": {},
     "output_type": "execute_result"
    }
   ],
   "source": [
    "a"
   ]
  },
  {
   "cell_type": "code",
   "execution_count": 22,
   "metadata": {},
   "outputs": [
    {
     "data": {
      "image/png": "[encoded data removed]",
      "text/plain": [
       "<Figure size 720x576 with 1 Axes>"
      ]
     },
     "metadata": {},
     "output_type": "display_data"
    }
   ],
   "source": [
    "a=df[['Gender','Use']].groupby('Gender')['Use'].mean()\n",
    "a=a.reset_index(drop=False)\n",
    "plt.title('Propotion of Mobile Application Usage based on Gender')\n",
    "plt.xlabel('Number of Axles')\n",
    "sns.set(rc={'figure.figsize':(10,8)})\n",
    "ax=sns.barplot(x='Gender', y='Use', data=a,palette=(\"Blues_d\"))\n",
    "ax.set_ylabel('Propotion of Users')\n",
    "for p in ax.patches:\n",
    "    height = p.get_height()\n",
    "    ax.text(p.get_x()+p.get_width()/2.,\n",
    "             height/2,\n",
    "            '{:1.2f}'.format(height),\n",
    "            ha=\"center\")"
   ]
  },
  {
   "cell_type": "code",
   "execution_count": 23,
   "metadata": {},
   "outputs": [
    {
     "data": {
      "image/png": "[encoded data removed]",
      "text/plain": [
       "<Figure size 720x576 with 1 Axes>"
      ]
     },
     "metadata": {},
     "output_type": "display_data"
    }
   ],
   "source": [
    "a=df[['Income','Use']].groupby('Income')['Use'].mean()\n",
    "a=a.reset_index(drop=False)\n",
    "plt.title('Propotion of Mobile Application Usage based on Income')\n",
    "plt.xlabel('Number of Axles')\n",
    "sns.set(rc={'figure.figsize':(10,8)})\n",
    "ax=sns.barplot(x='Income', y='Use', data=a,palette=(\"Blues_d\"),order=['Above Rs 100,000','Rs 50,001-Rs 100,000','Rs 20,001- Rs 50,000','Below Rs 20,000','Prefer not to answer'])\n",
    "ax.set_ylabel('Propotion of users')\n",
    "for p in ax.patches:\n",
    "    height = p.get_height()\n",
    "    ax.text(p.get_x()+p.get_width()/2.,\n",
    "             height/2,\n",
    "            '{:1.2f}'.format(height),\n",
    "            ha=\"center\")"
   ]
  },
  {
   "cell_type": "code",
   "execution_count": 24,
   "metadata": {},
   "outputs": [
    {
     "data": {
      "image/png": "[encoded data removed]",
      "text/plain": [
       "<Figure size 720x576 with 1 Axes>"
      ]
     },
     "metadata": {},
     "output_type": "display_data"
    }
   ],
   "source": [
    "a=df[['Ethnicity','Use']].groupby('Ethnicity')['Use'].mean()\n",
    "a=a.reset_index(drop=False)\n",
    "plt.title('Propotion of Mobile Application Usage based on Ethnicity')\n",
    "plt.xlabel('Number of Axles')\n",
    "sns.set(rc={'figure.figsize':(10,8)})\n",
    "ax=sns.barplot(x='Ethnicity', y='Use', data=a,palette=(\"Blues_d\"))\n",
    "ax.set_ylabel('Propotion of Users')\n",
    "for p in ax.patches:\n",
    "    height = p.get_height()\n",
    "    ax.text(p.get_x()+p.get_width()/2.,\n",
    "             height/2,\n",
    "            '{:1.2f}'.format(height),\n",
    "            ha=\"center\")"
   ]
  },
  {
   "cell_type": "code",
   "execution_count": 25,
   "metadata": {},
   "outputs": [
    {
     "data": {
      "image/png": "[encoded data removed]",
      "text/plain": [
       "<Figure size 720x576 with 1 Axes>"
      ]
     },
     "metadata": {},
     "output_type": "display_data"
    }
   ],
   "source": [
    "a=df[['Education','Use']].groupby('Education')['Use'].mean()\n",
    "a=a.reset_index(drop=False)\n",
    "plt.title('Propotion of Mobile Application Usage based on Ethnicity')\n",
    "plt.xlabel('Number of Axles')\n",
    "sns.set(rc={'figure.figsize':(10,8)})\n",
    "ax=sns.barplot(x='Education', y='Use', data=a,palette=(\"Blues_d\"))\n",
    "ax.set_ylabel('Propotion of Users')\n",
    "for p in ax.patches:\n",
    "    height = p.get_height()\n",
    "    ax.text(p.get_x()+p.get_width()/2.,\n",
    "             height/2,\n",
    "            '{:1.2f}'.format(height),\n",
    "            ha=\"center\")"
   ]
  },
  {
   "cell_type": "code",
   "execution_count": 26,
   "metadata": {},
   "outputs": [
    {
     "data": {
      "image/png": "[encoded data removed]",
      "text/plain": [
       "<Figure size 720x576 with 1 Axes>"
      ]
     },
     "metadata": {},
     "output_type": "display_data"
    }
   ],
   "source": [
    "a=df[['Employment','Use']].groupby('Employment')['Use'].mean()\n",
    "a=a.reset_index(drop=False)\n",
    "plt.title('Propotion of Mobile Application Usage based on Current Employment')\n",
    "plt.xlabel('Number of Axles')\n",
    "sns.set(rc={'figure.figsize':(10,8)})\n",
    "ax=sns.barplot(x='Employment', y='Use', data=a,palette=(\"Blues_d\"))\n",
    "ax.set_ylabel('Propotion of Users')\n",
    "for p in ax.patches:\n",
    "    height = p.get_height()\n",
    "    ax.text(p.get_x()+p.get_width()/2.,\n",
    "             height/2,\n",
    "            '{:1.2f}'.format(height),\n",
    "            ha=\"center\")"
   ]
  },
  {
   "cell_type": "code",
   "execution_count": 27,
   "metadata": {},
   "outputs": [
    {
     "data": {
      "image/png": "[encoded data removed]",
      "text/plain": [
       "<Figure size 720x576 with 1 Axes>"
      ]
     },
     "metadata": {},
     "output_type": "display_data"
    }
   ],
   "source": [
    "a=df[['Age','Use']].groupby('Age')['Use'].mean()\n",
    "a=a.reset_index(drop=False)\n",
    "plt.title('Propotion of Mobile Application Usage based on Age Category')\n",
    "plt.xlabel('Number of Axles')\n",
    "sns.set(rc={'figure.figsize':(10,8)})\n",
    "ax=sns.barplot(x='Age', y='Use', data=a,palette=(\"Blues_d\"))\n",
    "ax.set_ylabel('Propotion of Users')\n",
    "for p in ax.patches:\n",
    "    height = p.get_height()\n",
    "    ax.text(p.get_x()+p.get_width()/2.,\n",
    "             height/2,\n",
    "            '{:1.2f}'.format(height),\n",
    "            ha=\"center\")"
   ]
  },
  {
   "cell_type": "code",
   "execution_count": 28,
   "metadata": {},
   "outputs": [],
   "source": [
    "df['NewIncome']=df['Income'].apply(lambda x: 'Above100K' if x=='Above Rs 100,000' else ('Prefer not to answer' if x=='Prefer not to answer' else ('Prefer not to answer' if x=='Prefer not to answer' else \"Below100K\")))"
   ]
  },
  {
   "cell_type": "code",
   "execution_count": 29,
   "metadata": {},
   "outputs": [
    {
     "data": {
      "text/html": [
       "<div>\n",
       "<style scoped>\n",
       "    .dataframe tbody tr th:only-of-type {\n",
       "        vertical-align: middle;\n",
       "    }\n",
       "\n",
       "    .dataframe tbody tr th {\n",
       "        vertical-align: top;\n",
       "    }\n",
       "\n",
       "    .dataframe thead th {\n",
       "        text-align: right;\n",
       "    }\n",
       "</style>\n",
       "<table border=\"1\" class=\"dataframe\">\n",
       "  <thead>\n",
       "    <tr style=\"text-align: right;\">\n",
       "      <th></th>\n",
       "      <th>No</th>\n",
       "      <th>Gender</th>\n",
       "      <th>Age</th>\n",
       "      <th>Ethnicity</th>\n",
       "      <th>Location</th>\n",
       "      <th>Education</th>\n",
       "      <th>Employment</th>\n",
       "      <th>Income</th>\n",
       "      <th>Usage</th>\n",
       "      <th>Duration</th>\n",
       "      <th>...</th>\n",
       "      <th>Functionality Awareness LS</th>\n",
       "      <th>Functionality Usage LS</th>\n",
       "      <th>Availablity LS</th>\n",
       "      <th>BP Support LS</th>\n",
       "      <th>Charges LS</th>\n",
       "      <th>Time Saving LS</th>\n",
       "      <th>Score</th>\n",
       "      <th>Reason for Score</th>\n",
       "      <th>Use</th>\n",
       "      <th>NewIncome</th>\n",
       "    </tr>\n",
       "  </thead>\n",
       "  <tbody>\n",
       "    <tr>\n",
       "      <th>0</th>\n",
       "      <td>1</td>\n",
       "      <td>Male</td>\n",
       "      <td>24-39</td>\n",
       "      <td>Sinhalese</td>\n",
       "      <td>Colombo</td>\n",
       "      <td>Degree or Equivalent or higher</td>\n",
       "      <td>Employed in Private Sector</td>\n",
       "      <td>Rs 50,001-Rs 100,000</td>\n",
       "      <td>Yes</td>\n",
       "      <td>1-5 Years</td>\n",
       "      <td>...</td>\n",
       "      <td>Agree</td>\n",
       "      <td>Neutral</td>\n",
       "      <td>Strongly Agree</td>\n",
       "      <td>Neutral</td>\n",
       "      <td>Strongly Agree</td>\n",
       "      <td>Strongly Agree</td>\n",
       "      <td>8.0</td>\n",
       "      <td>Easy handling</td>\n",
       "      <td>1</td>\n",
       "      <td>Below100K</td>\n",
       "    </tr>\n",
       "    <tr>\n",
       "      <th>1</th>\n",
       "      <td>2</td>\n",
       "      <td>Male</td>\n",
       "      <td>24-39</td>\n",
       "      <td>Sinhalese</td>\n",
       "      <td>Kalutara</td>\n",
       "      <td>Degree or Equivalent or higher</td>\n",
       "      <td>Employed in Private Sector</td>\n",
       "      <td>Rs 50,001-Rs 100,000</td>\n",
       "      <td>Yes</td>\n",
       "      <td>Less than 1 Year</td>\n",
       "      <td>...</td>\n",
       "      <td>Disagree</td>\n",
       "      <td>Strongly Disagree</td>\n",
       "      <td>Agree</td>\n",
       "      <td>Agree</td>\n",
       "      <td>Neutral</td>\n",
       "      <td>Disagree</td>\n",
       "      <td>10.0</td>\n",
       "      <td>24 hour usage and time saving</td>\n",
       "      <td>1</td>\n",
       "      <td>Below100K</td>\n",
       "    </tr>\n",
       "    <tr>\n",
       "      <th>2</th>\n",
       "      <td>3</td>\n",
       "      <td>Male</td>\n",
       "      <td>24-39</td>\n",
       "      <td>Sinhalese</td>\n",
       "      <td>Colombo</td>\n",
       "      <td>Degree or Equivalent or higher</td>\n",
       "      <td>Employed in Public Sector</td>\n",
       "      <td>Rs 50,001-Rs 100,000</td>\n",
       "      <td>Yes</td>\n",
       "      <td>1-5 Years</td>\n",
       "      <td>...</td>\n",
       "      <td>Agree</td>\n",
       "      <td>Neutral</td>\n",
       "      <td>Agree</td>\n",
       "      <td>Agree</td>\n",
       "      <td>Agree</td>\n",
       "      <td>Agree</td>\n",
       "      <td>10.0</td>\n",
       "      <td>Convenience and ease</td>\n",
       "      <td>1</td>\n",
       "      <td>Below100K</td>\n",
       "    </tr>\n",
       "    <tr>\n",
       "      <th>3</th>\n",
       "      <td>4</td>\n",
       "      <td>Male</td>\n",
       "      <td>24-39</td>\n",
       "      <td>Muslim</td>\n",
       "      <td>Colombo</td>\n",
       "      <td>Degree or Equivalent or higher</td>\n",
       "      <td>Self-employed</td>\n",
       "      <td>Above Rs 100,000</td>\n",
       "      <td>Yes</td>\n",
       "      <td>6-10 Years</td>\n",
       "      <td>...</td>\n",
       "      <td>Agree</td>\n",
       "      <td>Disagree</td>\n",
       "      <td>Strongly Agree</td>\n",
       "      <td>Agree</td>\n",
       "      <td>Agree</td>\n",
       "      <td>Strongly Agree</td>\n",
       "      <td>10.0</td>\n",
       "      <td>NaN</td>\n",
       "      <td>1</td>\n",
       "      <td>Above100K</td>\n",
       "    </tr>\n",
       "    <tr>\n",
       "      <th>4</th>\n",
       "      <td>5</td>\n",
       "      <td>Male</td>\n",
       "      <td>24-39</td>\n",
       "      <td>Muslim</td>\n",
       "      <td>Colombo</td>\n",
       "      <td>Degree or Equivalent or higher</td>\n",
       "      <td>Unemployed</td>\n",
       "      <td>Prefer not to answer</td>\n",
       "      <td>Yes</td>\n",
       "      <td>Less than 1 Year</td>\n",
       "      <td>...</td>\n",
       "      <td>Agree</td>\n",
       "      <td>Neutral</td>\n",
       "      <td>Agree</td>\n",
       "      <td>Agree</td>\n",
       "      <td>Strongly Agree</td>\n",
       "      <td>Strongly Agree</td>\n",
       "      <td>6.0</td>\n",
       "      <td>It depends on their level of understanding of ...</td>\n",
       "      <td>1</td>\n",
       "      <td>Prefer not to answer</td>\n",
       "    </tr>\n",
       "    <tr>\n",
       "      <th>...</th>\n",
       "      <td>...</td>\n",
       "      <td>...</td>\n",
       "      <td>...</td>\n",
       "      <td>...</td>\n",
       "      <td>...</td>\n",
       "      <td>...</td>\n",
       "      <td>...</td>\n",
       "      <td>...</td>\n",
       "      <td>...</td>\n",
       "      <td>...</td>\n",
       "      <td>...</td>\n",
       "      <td>...</td>\n",
       "      <td>...</td>\n",
       "      <td>...</td>\n",
       "      <td>...</td>\n",
       "      <td>...</td>\n",
       "      <td>...</td>\n",
       "      <td>...</td>\n",
       "      <td>...</td>\n",
       "      <td>...</td>\n",
       "      <td>...</td>\n",
       "    </tr>\n",
       "    <tr>\n",
       "      <th>150</th>\n",
       "      <td>151</td>\n",
       "      <td>Female</td>\n",
       "      <td>40-60</td>\n",
       "      <td>Burgher</td>\n",
       "      <td>Colombo</td>\n",
       "      <td>Degree or Equivalent or higher</td>\n",
       "      <td>Employed in Private Sector</td>\n",
       "      <td>Above Rs 100,000</td>\n",
       "      <td>Yes</td>\n",
       "      <td>1-5 Years</td>\n",
       "      <td>...</td>\n",
       "      <td>Agree</td>\n",
       "      <td>Agree</td>\n",
       "      <td>Agree</td>\n",
       "      <td>Agree</td>\n",
       "      <td>Agree</td>\n",
       "      <td>Strongly Agree</td>\n",
       "      <td>9.0</td>\n",
       "      <td>NaN</td>\n",
       "      <td>1</td>\n",
       "      <td>Above100K</td>\n",
       "    </tr>\n",
       "    <tr>\n",
       "      <th>151</th>\n",
       "      <td>152</td>\n",
       "      <td>Male</td>\n",
       "      <td>24-39</td>\n",
       "      <td>Sinhalese</td>\n",
       "      <td>Colombo</td>\n",
       "      <td>Degree or Equivalent or higher</td>\n",
       "      <td>Employed in Private Sector</td>\n",
       "      <td>Above Rs 100,000</td>\n",
       "      <td>No, I'm aware of mobile banking applications</td>\n",
       "      <td>NaN</td>\n",
       "      <td>...</td>\n",
       "      <td>NaN</td>\n",
       "      <td>NaN</td>\n",
       "      <td>NaN</td>\n",
       "      <td>NaN</td>\n",
       "      <td>NaN</td>\n",
       "      <td>NaN</td>\n",
       "      <td>NaN</td>\n",
       "      <td>NaN</td>\n",
       "      <td>0</td>\n",
       "      <td>Above100K</td>\n",
       "    </tr>\n",
       "    <tr>\n",
       "      <th>152</th>\n",
       "      <td>153</td>\n",
       "      <td>Female</td>\n",
       "      <td>Above 60</td>\n",
       "      <td>Tamil</td>\n",
       "      <td>Colombo</td>\n",
       "      <td>Degree or Equivalent or higher</td>\n",
       "      <td>Employed in Public Sector</td>\n",
       "      <td>Rs 50,001-Rs 100,000</td>\n",
       "      <td>Yes</td>\n",
       "      <td>Less than 1 Year</td>\n",
       "      <td>...</td>\n",
       "      <td>Neutral</td>\n",
       "      <td>Disagree</td>\n",
       "      <td>Neutral</td>\n",
       "      <td>Neutral</td>\n",
       "      <td>Disagree</td>\n",
       "      <td>Agree</td>\n",
       "      <td>7.0</td>\n",
       "      <td>NaN</td>\n",
       "      <td>1</td>\n",
       "      <td>Below100K</td>\n",
       "    </tr>\n",
       "    <tr>\n",
       "      <th>153</th>\n",
       "      <td>154</td>\n",
       "      <td>Female</td>\n",
       "      <td>24-39</td>\n",
       "      <td>Sinhalese</td>\n",
       "      <td>Colombo</td>\n",
       "      <td>Degree or Equivalent or higher</td>\n",
       "      <td>Employed in Private Sector</td>\n",
       "      <td>Above Rs 100,000</td>\n",
       "      <td>Yes</td>\n",
       "      <td>1-5 Years</td>\n",
       "      <td>...</td>\n",
       "      <td>Neutral</td>\n",
       "      <td>Neutral</td>\n",
       "      <td>Agree</td>\n",
       "      <td>Disagree</td>\n",
       "      <td>Disagree</td>\n",
       "      <td>Agree</td>\n",
       "      <td>7.0</td>\n",
       "      <td>NaN</td>\n",
       "      <td>1</td>\n",
       "      <td>Above100K</td>\n",
       "    </tr>\n",
       "    <tr>\n",
       "      <th>154</th>\n",
       "      <td>155</td>\n",
       "      <td>Female</td>\n",
       "      <td>24-39</td>\n",
       "      <td>Sinhalese</td>\n",
       "      <td>Colombo</td>\n",
       "      <td>Degree or Equivalent or higher</td>\n",
       "      <td>Employed in Private Sector</td>\n",
       "      <td>Above Rs 100,000</td>\n",
       "      <td>Yes</td>\n",
       "      <td>6-10 Years</td>\n",
       "      <td>...</td>\n",
       "      <td>Agree</td>\n",
       "      <td>Neutral</td>\n",
       "      <td>Strongly Agree</td>\n",
       "      <td>Agree</td>\n",
       "      <td>Neutral</td>\n",
       "      <td>Strongly Agree</td>\n",
       "      <td>10.0</td>\n",
       "      <td>NaN</td>\n",
       "      <td>1</td>\n",
       "      <td>Above100K</td>\n",
       "    </tr>\n",
       "  </tbody>\n",
       "</table>\n",
       "<p>155 rows × 32 columns</p>\n",
       "</div>"
      ],
      "text/plain": [
       "      No  Gender       Age  Ethnicity  Location  \\\n",
       "0      1    Male     24-39  Sinhalese   Colombo   \n",
       "1      2    Male     24-39  Sinhalese  Kalutara   \n",
       "2      3    Male     24-39  Sinhalese   Colombo   \n",
       "3      4    Male     24-39     Muslim   Colombo   \n",
       "4      5    Male     24-39     Muslim   Colombo   \n",
       "..   ...     ...       ...        ...       ...   \n",
       "150  151  Female     40-60    Burgher   Colombo   \n",
       "151  152    Male     24-39  Sinhalese   Colombo   \n",
       "152  153  Female  Above 60      Tamil   Colombo   \n",
       "153  154  Female     24-39  Sinhalese   Colombo   \n",
       "154  155  Female     24-39  Sinhalese   Colombo   \n",
       "\n",
       "                          Education                  Employment  \\\n",
       "0    Degree or Equivalent or higher  Employed in Private Sector   \n",
       "1    Degree or Equivalent or higher  Employed in Private Sector   \n",
       "2    Degree or Equivalent or higher   Employed in Public Sector   \n",
       "3    Degree or Equivalent or higher               Self-employed   \n",
       "4    Degree or Equivalent or higher                  Unemployed   \n",
       "..                              ...                         ...   \n",
       "150  Degree or Equivalent or higher  Employed in Private Sector   \n",
       "151  Degree or Equivalent or higher  Employed in Private Sector   \n",
       "152  Degree or Equivalent or higher   Employed in Public Sector   \n",
       "153  Degree or Equivalent or higher  Employed in Private Sector   \n",
       "154  Degree or Equivalent or higher  Employed in Private Sector   \n",
       "\n",
       "                   Income                                         Usage  \\\n",
       "0    Rs 50,001-Rs 100,000                                           Yes   \n",
       "1    Rs 50,001-Rs 100,000                                           Yes   \n",
       "2    Rs 50,001-Rs 100,000                                           Yes   \n",
       "3        Above Rs 100,000                                           Yes   \n",
       "4    Prefer not to answer                                           Yes   \n",
       "..                    ...                                           ...   \n",
       "150      Above Rs 100,000                                           Yes   \n",
       "151      Above Rs 100,000  No, I'm aware of mobile banking applications   \n",
       "152  Rs 50,001-Rs 100,000                                           Yes   \n",
       "153      Above Rs 100,000                                           Yes   \n",
       "154      Above Rs 100,000                                           Yes   \n",
       "\n",
       "             Duration  ... Functionality Awareness LS Functionality Usage LS  \\\n",
       "0           1-5 Years  ...                      Agree                Neutral   \n",
       "1    Less than 1 Year  ...                   Disagree      Strongly Disagree   \n",
       "2           1-5 Years  ...                      Agree                Neutral   \n",
       "3          6-10 Years  ...                      Agree               Disagree   \n",
       "4    Less than 1 Year  ...                      Agree                Neutral   \n",
       "..                ...  ...                        ...                    ...   \n",
       "150         1-5 Years  ...                      Agree                  Agree   \n",
       "151               NaN  ...                        NaN                    NaN   \n",
       "152  Less than 1 Year  ...                    Neutral               Disagree   \n",
       "153         1-5 Years  ...                    Neutral                Neutral   \n",
       "154        6-10 Years  ...                      Agree                Neutral   \n",
       "\n",
       "     Availablity LS  BP Support LS      Charges LS  Time Saving LS  Score  \\\n",
       "0    Strongly Agree        Neutral  Strongly Agree  Strongly Agree    8.0   \n",
       "1             Agree          Agree         Neutral        Disagree   10.0   \n",
       "2             Agree          Agree           Agree           Agree   10.0   \n",
       "3    Strongly Agree          Agree           Agree  Strongly Agree   10.0   \n",
       "4             Agree          Agree  Strongly Agree  Strongly Agree    6.0   \n",
       "..              ...            ...             ...             ...    ...   \n",
       "150           Agree          Agree           Agree  Strongly Agree    9.0   \n",
       "151             NaN            NaN             NaN             NaN    NaN   \n",
       "152         Neutral        Neutral        Disagree           Agree    7.0   \n",
       "153           Agree       Disagree        Disagree           Agree    7.0   \n",
       "154  Strongly Agree          Agree         Neutral  Strongly Agree   10.0   \n",
       "\n",
       "                                      Reason for Score Use  \\\n",
       "0                                        Easy handling   1   \n",
       "1                        24 hour usage and time saving   1   \n",
       "2                                 Convenience and ease   1   \n",
       "3                                                  NaN   1   \n",
       "4    It depends on their level of understanding of ...   1   \n",
       "..                                                 ...  ..   \n",
       "150                                                NaN   1   \n",
       "151                                                NaN   0   \n",
       "152                                                NaN   1   \n",
       "153                                                NaN   1   \n",
       "154                                                NaN   1   \n",
       "\n",
       "                NewIncome  \n",
       "0               Below100K  \n",
       "1               Below100K  \n",
       "2               Below100K  \n",
       "3               Above100K  \n",
       "4    Prefer not to answer  \n",
       "..                    ...  \n",
       "150             Above100K  \n",
       "151             Above100K  \n",
       "152             Below100K  \n",
       "153             Above100K  \n",
       "154             Above100K  \n",
       "\n",
       "[155 rows x 32 columns]"
      ]
     },
     "execution_count": 29,
     "metadata": {},
     "output_type": "execute_result"
    }
   ],
   "source": [
    "df"
   ]
  },
  {
   "cell_type": "code",
   "execution_count": 30,
   "metadata": {},
   "outputs": [],
   "source": [
    "dfnew=df[df['NewIncome']!='Prefer not to answer']"
   ]
  },
  {
   "cell_type": "code",
   "execution_count": 31,
   "metadata": {},
   "outputs": [
    {
     "data": {
      "text/html": [
       "<div>\n",
       "<style scoped>\n",
       "    .dataframe tbody tr th:only-of-type {\n",
       "        vertical-align: middle;\n",
       "    }\n",
       "\n",
       "    .dataframe tbody tr th {\n",
       "        vertical-align: top;\n",
       "    }\n",
       "\n",
       "    .dataframe thead th {\n",
       "        text-align: right;\n",
       "    }\n",
       "</style>\n",
       "<table border=\"1\" class=\"dataframe\">\n",
       "  <thead>\n",
       "    <tr style=\"text-align: right;\">\n",
       "      <th>NewIncome</th>\n",
       "      <th>Above100K</th>\n",
       "      <th>Below100K</th>\n",
       "    </tr>\n",
       "    <tr>\n",
       "      <th>Use</th>\n",
       "      <th></th>\n",
       "      <th></th>\n",
       "    </tr>\n",
       "  </thead>\n",
       "  <tbody>\n",
       "    <tr>\n",
       "      <th>0</th>\n",
       "      <td>0.181818</td>\n",
       "      <td>0.343434</td>\n",
       "    </tr>\n",
       "    <tr>\n",
       "      <th>1</th>\n",
       "      <td>0.818182</td>\n",
       "      <td>0.656566</td>\n",
       "    </tr>\n",
       "  </tbody>\n",
       "</table>\n",
       "</div>"
      ],
      "text/plain": [
       "NewIncome  Above100K  Below100K\n",
       "Use                            \n",
       "0           0.181818   0.343434\n",
       "1           0.818182   0.656566"
      ]
     },
     "execution_count": 31,
     "metadata": {},
     "output_type": "execute_result"
    }
   ],
   "source": [
    "pd.crosstab(dfnew.Use,df.NewIncome).apply(lambda r:r/r.sum(),axis=0)"
   ]
  },
  {
   "cell_type": "code",
   "execution_count": 32,
   "metadata": {},
   "outputs": [],
   "source": [
    "total_proportion_use = (dfnew.Use ==1).mean()\n",
    "num_IncomeAbove100K = dfnew[dfnew.NewIncome==\"Above100K\"].shape[0]\n",
    "num_IncomeBelow100K = dfnew[dfnew.NewIncome==\"Below100K\"].shape[0]\n",
    "\n",
    "assert num_IncomeAbove100K*total_proportion_use>10, \"Assumptions not met\"\n",
    "assert num_IncomeBelow100K*total_proportion_use>10, \"Assumptions not met\"\n",
    "assert num_IncomeAbove100K*(1-total_proportion_use)>10, \"Assumptions not met\"\n",
    "assert num_IncomeBelow100K*(1-total_proportion_use)>10, \"Assumptions not met\""
   ]
  },
  {
   "cell_type": "code",
   "execution_count": 33,
   "metadata": {},
   "outputs": [
    {
     "data": {
      "text/html": [
       "<div>\n",
       "<style scoped>\n",
       "    .dataframe tbody tr th:only-of-type {\n",
       "        vertical-align: middle;\n",
       "    }\n",
       "\n",
       "    .dataframe tbody tr th {\n",
       "        vertical-align: top;\n",
       "    }\n",
       "\n",
       "    .dataframe thead th {\n",
       "        text-align: right;\n",
       "    }\n",
       "</style>\n",
       "<table border=\"1\" class=\"dataframe\">\n",
       "  <thead>\n",
       "    <tr style=\"text-align: right;\">\n",
       "      <th></th>\n",
       "      <th>proportions_using</th>\n",
       "      <th>total_counts</th>\n",
       "    </tr>\n",
       "    <tr>\n",
       "      <th>NewIncome</th>\n",
       "      <th></th>\n",
       "      <th></th>\n",
       "    </tr>\n",
       "  </thead>\n",
       "  <tbody>\n",
       "    <tr>\n",
       "      <th>Above100K</th>\n",
       "      <td>0.818182</td>\n",
       "      <td>44</td>\n",
       "    </tr>\n",
       "    <tr>\n",
       "      <th>Below100K</th>\n",
       "      <td>0.656566</td>\n",
       "      <td>99</td>\n",
       "    </tr>\n",
       "  </tbody>\n",
       "</table>\n",
       "</div>"
      ],
      "text/plain": [
       "           proportions_using  total_counts\n",
       "NewIncome                                 \n",
       "Above100K           0.818182            44\n",
       "Below100K           0.656566            99"
      ]
     },
     "execution_count": 33,
     "metadata": {},
     "output_type": "execute_result"
    }
   ],
   "source": [
    "prop = dfnew[['NewIncome','Use']].groupby('NewIncome')['Use'].agg(['mean', 'count'])\n",
    "prop.columns = ['proportions_using','total_counts']\n",
    "prop.head()"
   ]
  },
  {
   "cell_type": "code",
   "execution_count": 34,
   "metadata": {},
   "outputs": [],
   "source": [
    "standard_errornew = np.sqrt((prop.proportions_using.Above100K*(1-prop.proportions_using.Above100K)/prop.total_counts.Above100K)+\n",
    "                            (prop.proportions_using.Below100K*(1-prop.proportions_using.Below100K)/prop.total_counts.Below100K))"
   ]
  },
  {
   "cell_type": "code",
   "execution_count": 35,
   "metadata": {},
   "outputs": [
    {
     "data": {
      "text/plain": [
       "0.07522343411637616"
      ]
     },
     "execution_count": 35,
     "metadata": {},
     "output_type": "execute_result"
    }
   ],
   "source": [
    "standard_errornew"
   ]
  },
  {
   "cell_type": "code",
   "execution_count": 36,
   "metadata": {},
   "outputs": [
    {
     "name": "stdout",
     "output_type": "stream",
     "text": [
      "The best estimate is 0.16161616161616166\n",
      "Computed Test Statistic is 2.1484815671420905\n",
      "Computed P-value is 0.03167551916919678\n"
     ]
    }
   ],
   "source": [
    "#Calculate the test statistic using newstandard error\n",
    "best_estimate = (prop.proportions_using.Above100K - prop.proportions_using.Below100K)\n",
    "print(\"The best estimate is\",best_estimate)\n",
    "hypothesized_estimate = 0\n",
    "test_stat = (best_estimate-hypothesized_estimate) / standard_errornew\n",
    "print(\"Computed Test Statistic is\",test_stat)\n",
    "\n",
    "# Calculate the  p-value\n",
    "pvalue = 2*dist.norm.cdf(-np.abs(test_stat)) # Multiplied by two indicates a two tailed testing.\n",
    "print(\"Computed P-value is\", pvalue)"
   ]
  },
  {
   "cell_type": "markdown",
   "metadata": {},
   "source": [
    "# Understanding key elements users look in when using Mobile Banking Application"
   ]
  },
  {
   "cell_type": "code",
   "execution_count": 37,
   "metadata": {},
   "outputs": [
    {
     "data": {
      "text/html": [
       "<div>\n",
       "<style scoped>\n",
       "    .dataframe tbody tr th:only-of-type {\n",
       "        vertical-align: middle;\n",
       "    }\n",
       "\n",
       "    .dataframe tbody tr th {\n",
       "        vertical-align: top;\n",
       "    }\n",
       "\n",
       "    .dataframe thead th {\n",
       "        text-align: right;\n",
       "    }\n",
       "</style>\n",
       "<table border=\"1\" class=\"dataframe\">\n",
       "  <thead>\n",
       "    <tr style=\"text-align: right;\">\n",
       "      <th></th>\n",
       "      <th>No</th>\n",
       "      <th>Gender</th>\n",
       "      <th>Age</th>\n",
       "      <th>Ethnicity</th>\n",
       "      <th>Location</th>\n",
       "      <th>Education</th>\n",
       "      <th>Employment</th>\n",
       "      <th>Income</th>\n",
       "      <th>Usage</th>\n",
       "      <th>Duration</th>\n",
       "      <th>...</th>\n",
       "      <th>Functionality Awareness LS</th>\n",
       "      <th>Functionality Usage LS</th>\n",
       "      <th>Availablity LS</th>\n",
       "      <th>BP Support LS</th>\n",
       "      <th>Charges LS</th>\n",
       "      <th>Time Saving LS</th>\n",
       "      <th>Score</th>\n",
       "      <th>Reason for Score</th>\n",
       "      <th>Use</th>\n",
       "      <th>NewIncome</th>\n",
       "    </tr>\n",
       "  </thead>\n",
       "  <tbody>\n",
       "    <tr>\n",
       "      <th>0</th>\n",
       "      <td>1</td>\n",
       "      <td>Male</td>\n",
       "      <td>24-39</td>\n",
       "      <td>Sinhalese</td>\n",
       "      <td>Colombo</td>\n",
       "      <td>Degree or Equivalent or higher</td>\n",
       "      <td>Employed in Private Sector</td>\n",
       "      <td>Rs 50,001-Rs 100,000</td>\n",
       "      <td>Yes</td>\n",
       "      <td>1-5 Years</td>\n",
       "      <td>...</td>\n",
       "      <td>Agree</td>\n",
       "      <td>Neutral</td>\n",
       "      <td>Strongly Agree</td>\n",
       "      <td>Neutral</td>\n",
       "      <td>Strongly Agree</td>\n",
       "      <td>Strongly Agree</td>\n",
       "      <td>8.0</td>\n",
       "      <td>Easy handling</td>\n",
       "      <td>1</td>\n",
       "      <td>Below100K</td>\n",
       "    </tr>\n",
       "    <tr>\n",
       "      <th>1</th>\n",
       "      <td>2</td>\n",
       "      <td>Male</td>\n",
       "      <td>24-39</td>\n",
       "      <td>Sinhalese</td>\n",
       "      <td>Kalutara</td>\n",
       "      <td>Degree or Equivalent or higher</td>\n",
       "      <td>Employed in Private Sector</td>\n",
       "      <td>Rs 50,001-Rs 100,000</td>\n",
       "      <td>Yes</td>\n",
       "      <td>Less than 1 Year</td>\n",
       "      <td>...</td>\n",
       "      <td>Disagree</td>\n",
       "      <td>Strongly Disagree</td>\n",
       "      <td>Agree</td>\n",
       "      <td>Agree</td>\n",
       "      <td>Neutral</td>\n",
       "      <td>Disagree</td>\n",
       "      <td>10.0</td>\n",
       "      <td>24 hour usage and time saving</td>\n",
       "      <td>1</td>\n",
       "      <td>Below100K</td>\n",
       "    </tr>\n",
       "    <tr>\n",
       "      <th>2</th>\n",
       "      <td>3</td>\n",
       "      <td>Male</td>\n",
       "      <td>24-39</td>\n",
       "      <td>Sinhalese</td>\n",
       "      <td>Colombo</td>\n",
       "      <td>Degree or Equivalent or higher</td>\n",
       "      <td>Employed in Public Sector</td>\n",
       "      <td>Rs 50,001-Rs 100,000</td>\n",
       "      <td>Yes</td>\n",
       "      <td>1-5 Years</td>\n",
       "      <td>...</td>\n",
       "      <td>Agree</td>\n",
       "      <td>Neutral</td>\n",
       "      <td>Agree</td>\n",
       "      <td>Agree</td>\n",
       "      <td>Agree</td>\n",
       "      <td>Agree</td>\n",
       "      <td>10.0</td>\n",
       "      <td>Convenience and ease</td>\n",
       "      <td>1</td>\n",
       "      <td>Below100K</td>\n",
       "    </tr>\n",
       "    <tr>\n",
       "      <th>3</th>\n",
       "      <td>4</td>\n",
       "      <td>Male</td>\n",
       "      <td>24-39</td>\n",
       "      <td>Muslim</td>\n",
       "      <td>Colombo</td>\n",
       "      <td>Degree or Equivalent or higher</td>\n",
       "      <td>Self-employed</td>\n",
       "      <td>Above Rs 100,000</td>\n",
       "      <td>Yes</td>\n",
       "      <td>6-10 Years</td>\n",
       "      <td>...</td>\n",
       "      <td>Agree</td>\n",
       "      <td>Disagree</td>\n",
       "      <td>Strongly Agree</td>\n",
       "      <td>Agree</td>\n",
       "      <td>Agree</td>\n",
       "      <td>Strongly Agree</td>\n",
       "      <td>10.0</td>\n",
       "      <td>NaN</td>\n",
       "      <td>1</td>\n",
       "      <td>Above100K</td>\n",
       "    </tr>\n",
       "    <tr>\n",
       "      <th>4</th>\n",
       "      <td>5</td>\n",
       "      <td>Male</td>\n",
       "      <td>24-39</td>\n",
       "      <td>Muslim</td>\n",
       "      <td>Colombo</td>\n",
       "      <td>Degree or Equivalent or higher</td>\n",
       "      <td>Unemployed</td>\n",
       "      <td>Prefer not to answer</td>\n",
       "      <td>Yes</td>\n",
       "      <td>Less than 1 Year</td>\n",
       "      <td>...</td>\n",
       "      <td>Agree</td>\n",
       "      <td>Neutral</td>\n",
       "      <td>Agree</td>\n",
       "      <td>Agree</td>\n",
       "      <td>Strongly Agree</td>\n",
       "      <td>Strongly Agree</td>\n",
       "      <td>6.0</td>\n",
       "      <td>It depends on their level of understanding of ...</td>\n",
       "      <td>1</td>\n",
       "      <td>Prefer not to answer</td>\n",
       "    </tr>\n",
       "  </tbody>\n",
       "</table>\n",
       "<p>5 rows × 32 columns</p>\n",
       "</div>"
      ],
      "text/plain": [
       "   No Gender    Age  Ethnicity  Location                       Education  \\\n",
       "0   1   Male  24-39  Sinhalese   Colombo  Degree or Equivalent or higher   \n",
       "1   2   Male  24-39  Sinhalese  Kalutara  Degree or Equivalent or higher   \n",
       "2   3   Male  24-39  Sinhalese   Colombo  Degree or Equivalent or higher   \n",
       "3   4   Male  24-39     Muslim   Colombo  Degree or Equivalent or higher   \n",
       "4   5   Male  24-39     Muslim   Colombo  Degree or Equivalent or higher   \n",
       "\n",
       "                   Employment                Income Usage          Duration  \\\n",
       "0  Employed in Private Sector  Rs 50,001-Rs 100,000   Yes         1-5 Years   \n",
       "1  Employed in Private Sector  Rs 50,001-Rs 100,000   Yes  Less than 1 Year   \n",
       "2   Employed in Public Sector  Rs 50,001-Rs 100,000   Yes         1-5 Years   \n",
       "3               Self-employed      Above Rs 100,000   Yes        6-10 Years   \n",
       "4                  Unemployed  Prefer not to answer   Yes  Less than 1 Year   \n",
       "\n",
       "   ... Functionality Awareness LS Functionality Usage LS  Availablity LS  \\\n",
       "0  ...                      Agree                Neutral  Strongly Agree   \n",
       "1  ...                   Disagree      Strongly Disagree           Agree   \n",
       "2  ...                      Agree                Neutral           Agree   \n",
       "3  ...                      Agree               Disagree  Strongly Agree   \n",
       "4  ...                      Agree                Neutral           Agree   \n",
       "\n",
       "   BP Support LS      Charges LS  Time Saving LS  Score  \\\n",
       "0        Neutral  Strongly Agree  Strongly Agree    8.0   \n",
       "1          Agree         Neutral        Disagree   10.0   \n",
       "2          Agree           Agree           Agree   10.0   \n",
       "3          Agree           Agree  Strongly Agree   10.0   \n",
       "4          Agree  Strongly Agree  Strongly Agree    6.0   \n",
       "\n",
       "                                    Reason for Score Use             NewIncome  \n",
       "0                                      Easy handling   1             Below100K  \n",
       "1                      24 hour usage and time saving   1             Below100K  \n",
       "2                               Convenience and ease   1             Below100K  \n",
       "3                                                NaN   1             Above100K  \n",
       "4  It depends on their level of understanding of ...   1  Prefer not to answer  \n",
       "\n",
       "[5 rows x 32 columns]"
      ]
     },
     "execution_count": 37,
     "metadata": {},
     "output_type": "execute_result"
    }
   ],
   "source": [
    "MBankUse = df[df['Usage']=='Yes']\n",
    "MBankUse.head()"
   ]
  },
  {
   "cell_type": "code",
   "execution_count": 38,
   "metadata": {},
   "outputs": [],
   "source": [
    "out = MBankUse['Services Used'].str.split(',\\s+', expand=True).stack().value_counts()"
   ]
  },
  {
   "cell_type": "code",
   "execution_count": 39,
   "metadata": {},
   "outputs": [
    {
     "data": {
      "text/plain": [
       "Fund trasfering                     97\n",
       "Checking account balance            96\n",
       "Utility Bill payments               64\n",
       "Purchase goods and services         45\n",
       "Investment management services       9\n",
       "Open Accounts snd Manage savings     2\n",
       "dtype: int64"
      ]
     },
     "execution_count": 39,
     "metadata": {},
     "output_type": "execute_result"
    }
   ],
   "source": [
    "out"
   ]
  },
  {
   "cell_type": "code",
   "execution_count": 40,
   "metadata": {},
   "outputs": [
    {
     "data": {
      "image/png": "[encoded data removed]",
      "text/plain": [
       "<Figure size 720x360 with 1 Axes>"
      ]
     },
     "metadata": {},
     "output_type": "display_data"
    }
   ],
   "source": [
    "plt.figure(figsize=(10,5))\n",
    "sns.barplot(y=out.index, x=out.values,orient=\"h\")\n",
    "plt.title('Services Obtained Through Mobile Banking Application')\n",
    "plt.ylabel('Service', fontsize=12)\n",
    "plt.xlabel('Number of Occurrences', fontsize=12)\n",
    "\n",
    "for p in ax.patches:\n",
    "    width = p.get_width()\n",
    "    ax.text(p.get_x(),\n",
    "             width/2,\n",
    "            '{:1.2f}'.format(width),\n",
    "            ha=\"center\")\n"
   ]
  },
  {
   "cell_type": "code",
   "execution_count": 41,
   "metadata": {},
   "outputs": [],
   "source": [
    "MBuseRank = MBankUse[['Secutity Rank','Ease of use Rank','Features Rank','Customer Service Rank','Availability Rank']]\n",
    "MBuseRank.columns=['Security','Ease of Use','Avaiable Features','Customer Service Support','Availabilty 24/7']"
   ]
  },
  {
   "cell_type": "code",
   "execution_count": 42,
   "metadata": {},
   "outputs": [
    {
     "data": {
      "text/html": [
       "<div>\n",
       "<style scoped>\n",
       "    .dataframe tbody tr th:only-of-type {\n",
       "        vertical-align: middle;\n",
       "    }\n",
       "\n",
       "    .dataframe tbody tr th {\n",
       "        vertical-align: top;\n",
       "    }\n",
       "\n",
       "    .dataframe thead th {\n",
       "        text-align: right;\n",
       "    }\n",
       "</style>\n",
       "<table border=\"1\" class=\"dataframe\">\n",
       "  <thead>\n",
       "    <tr style=\"text-align: right;\">\n",
       "      <th></th>\n",
       "      <th>Security</th>\n",
       "      <th>Ease of Use</th>\n",
       "      <th>Avaiable Features</th>\n",
       "      <th>Customer Service Support</th>\n",
       "      <th>Availabilty 24/7</th>\n",
       "    </tr>\n",
       "  </thead>\n",
       "  <tbody>\n",
       "    <tr>\n",
       "      <th>0</th>\n",
       "      <td>1.0</td>\n",
       "      <td>2.0</td>\n",
       "      <td>3.0</td>\n",
       "      <td>5.0</td>\n",
       "      <td>4.0</td>\n",
       "    </tr>\n",
       "    <tr>\n",
       "      <th>1</th>\n",
       "      <td>3.0</td>\n",
       "      <td>1.0</td>\n",
       "      <td>5.0</td>\n",
       "      <td>2.0</td>\n",
       "      <td>4.0</td>\n",
       "    </tr>\n",
       "    <tr>\n",
       "      <th>2</th>\n",
       "      <td>1.0</td>\n",
       "      <td>3.0</td>\n",
       "      <td>5.0</td>\n",
       "      <td>4.0</td>\n",
       "      <td>2.0</td>\n",
       "    </tr>\n",
       "    <tr>\n",
       "      <th>3</th>\n",
       "      <td>1.0</td>\n",
       "      <td>3.0</td>\n",
       "      <td>5.0</td>\n",
       "      <td>4.0</td>\n",
       "      <td>2.0</td>\n",
       "    </tr>\n",
       "    <tr>\n",
       "      <th>4</th>\n",
       "      <td>1.0</td>\n",
       "      <td>3.0</td>\n",
       "      <td>2.0</td>\n",
       "      <td>4.0</td>\n",
       "      <td>5.0</td>\n",
       "    </tr>\n",
       "    <tr>\n",
       "      <th>...</th>\n",
       "      <td>...</td>\n",
       "      <td>...</td>\n",
       "      <td>...</td>\n",
       "      <td>...</td>\n",
       "      <td>...</td>\n",
       "    </tr>\n",
       "    <tr>\n",
       "      <th>149</th>\n",
       "      <td>1.0</td>\n",
       "      <td>2.0</td>\n",
       "      <td>4.0</td>\n",
       "      <td>5.0</td>\n",
       "      <td>3.0</td>\n",
       "    </tr>\n",
       "    <tr>\n",
       "      <th>150</th>\n",
       "      <td>1.0</td>\n",
       "      <td>3.0</td>\n",
       "      <td>4.0</td>\n",
       "      <td>5.0</td>\n",
       "      <td>2.0</td>\n",
       "    </tr>\n",
       "    <tr>\n",
       "      <th>152</th>\n",
       "      <td>1.0</td>\n",
       "      <td>2.0</td>\n",
       "      <td>4.0</td>\n",
       "      <td>3.0</td>\n",
       "      <td>5.0</td>\n",
       "    </tr>\n",
       "    <tr>\n",
       "      <th>153</th>\n",
       "      <td>5.0</td>\n",
       "      <td>3.0</td>\n",
       "      <td>1.0</td>\n",
       "      <td>2.0</td>\n",
       "      <td>4.0</td>\n",
       "    </tr>\n",
       "    <tr>\n",
       "      <th>154</th>\n",
       "      <td>3.0</td>\n",
       "      <td>2.0</td>\n",
       "      <td>4.0</td>\n",
       "      <td>5.0</td>\n",
       "      <td>1.0</td>\n",
       "    </tr>\n",
       "  </tbody>\n",
       "</table>\n",
       "<p>108 rows × 5 columns</p>\n",
       "</div>"
      ],
      "text/plain": [
       "     Security  Ease of Use  Avaiable Features  Customer Service Support  \\\n",
       "0         1.0          2.0                3.0                       5.0   \n",
       "1         3.0          1.0                5.0                       2.0   \n",
       "2         1.0          3.0                5.0                       4.0   \n",
       "3         1.0          3.0                5.0                       4.0   \n",
       "4         1.0          3.0                2.0                       4.0   \n",
       "..        ...          ...                ...                       ...   \n",
       "149       1.0          2.0                4.0                       5.0   \n",
       "150       1.0          3.0                4.0                       5.0   \n",
       "152       1.0          2.0                4.0                       3.0   \n",
       "153       5.0          3.0                1.0                       2.0   \n",
       "154       3.0          2.0                4.0                       5.0   \n",
       "\n",
       "     Availabilty 24/7  \n",
       "0                 4.0  \n",
       "1                 4.0  \n",
       "2                 2.0  \n",
       "3                 2.0  \n",
       "4                 5.0  \n",
       "..                ...  \n",
       "149               3.0  \n",
       "150               2.0  \n",
       "152               5.0  \n",
       "153               4.0  \n",
       "154               1.0  \n",
       "\n",
       "[108 rows x 5 columns]"
      ]
     },
     "execution_count": 42,
     "metadata": {},
     "output_type": "execute_result"
    }
   ],
   "source": [
    "MBuseRank"
   ]
  },
  {
   "cell_type": "code",
   "execution_count": 43,
   "metadata": {},
   "outputs": [
    {
     "data": {
      "image/png": "[encoded data removed]",
      "text/plain": [
       "<Figure size 864x360 with 1 Axes>"
      ]
     },
     "metadata": {},
     "output_type": "display_data"
    }
   ],
   "source": [
    "plt.figure(figsize=(12,5))\n",
    "\n",
    "sns.boxplot(x=\"variable\", y=\"value\", data=pd.melt(MBuseRank),palette=(\"Blues_d\"))\n",
    "plt.title('Rank of Importance given for each Feature')\n",
    "plt.ylabel('Rank', fontsize=12)\n",
    "plt.xlabel('Feature', fontsize=12)\n",
    "plt.show()"
   ]
  },
  {
   "cell_type": "code",
   "execution_count": 44,
   "metadata": {},
   "outputs": [
    {
     "data": {
      "text/html": [
       "<div>\n",
       "<style scoped>\n",
       "    .dataframe tbody tr th:only-of-type {\n",
       "        vertical-align: middle;\n",
       "    }\n",
       "\n",
       "    .dataframe tbody tr th {\n",
       "        vertical-align: top;\n",
       "    }\n",
       "\n",
       "    .dataframe thead th {\n",
       "        text-align: right;\n",
       "    }\n",
       "</style>\n",
       "<table border=\"1\" class=\"dataframe\">\n",
       "  <thead>\n",
       "    <tr style=\"text-align: right;\">\n",
       "      <th></th>\n",
       "      <th>Security</th>\n",
       "      <th>Ease of Use</th>\n",
       "      <th>Avaiable Features</th>\n",
       "      <th>Customer Service Support</th>\n",
       "      <th>Availabilty 24/7</th>\n",
       "    </tr>\n",
       "  </thead>\n",
       "  <tbody>\n",
       "    <tr>\n",
       "      <th>count</th>\n",
       "      <td>108.000000</td>\n",
       "      <td>108.000000</td>\n",
       "      <td>108.000000</td>\n",
       "      <td>108.000000</td>\n",
       "      <td>108.000000</td>\n",
       "    </tr>\n",
       "    <tr>\n",
       "      <th>mean</th>\n",
       "      <td>1.814815</td>\n",
       "      <td>2.675926</td>\n",
       "      <td>3.592593</td>\n",
       "      <td>3.777778</td>\n",
       "      <td>3.138889</td>\n",
       "    </tr>\n",
       "    <tr>\n",
       "      <th>std</th>\n",
       "      <td>1.200842</td>\n",
       "      <td>1.039668</td>\n",
       "      <td>1.152300</td>\n",
       "      <td>1.225381</td>\n",
       "      <td>1.494278</td>\n",
       "    </tr>\n",
       "    <tr>\n",
       "      <th>min</th>\n",
       "      <td>1.000000</td>\n",
       "      <td>1.000000</td>\n",
       "      <td>1.000000</td>\n",
       "      <td>1.000000</td>\n",
       "      <td>1.000000</td>\n",
       "    </tr>\n",
       "    <tr>\n",
       "      <th>25%</th>\n",
       "      <td>1.000000</td>\n",
       "      <td>2.000000</td>\n",
       "      <td>3.000000</td>\n",
       "      <td>3.000000</td>\n",
       "      <td>2.000000</td>\n",
       "    </tr>\n",
       "    <tr>\n",
       "      <th>50%</th>\n",
       "      <td>1.000000</td>\n",
       "      <td>2.500000</td>\n",
       "      <td>4.000000</td>\n",
       "      <td>4.000000</td>\n",
       "      <td>3.000000</td>\n",
       "    </tr>\n",
       "    <tr>\n",
       "      <th>75%</th>\n",
       "      <td>2.000000</td>\n",
       "      <td>3.000000</td>\n",
       "      <td>4.000000</td>\n",
       "      <td>5.000000</td>\n",
       "      <td>5.000000</td>\n",
       "    </tr>\n",
       "    <tr>\n",
       "      <th>max</th>\n",
       "      <td>5.000000</td>\n",
       "      <td>5.000000</td>\n",
       "      <td>5.000000</td>\n",
       "      <td>5.000000</td>\n",
       "      <td>5.000000</td>\n",
       "    </tr>\n",
       "  </tbody>\n",
       "</table>\n",
       "</div>"
      ],
      "text/plain": [
       "         Security  Ease of Use  Avaiable Features  Customer Service Support  \\\n",
       "count  108.000000   108.000000         108.000000                108.000000   \n",
       "mean     1.814815     2.675926           3.592593                  3.777778   \n",
       "std      1.200842     1.039668           1.152300                  1.225381   \n",
       "min      1.000000     1.000000           1.000000                  1.000000   \n",
       "25%      1.000000     2.000000           3.000000                  3.000000   \n",
       "50%      1.000000     2.500000           4.000000                  4.000000   \n",
       "75%      2.000000     3.000000           4.000000                  5.000000   \n",
       "max      5.000000     5.000000           5.000000                  5.000000   \n",
       "\n",
       "       Availabilty 24/7  \n",
       "count        108.000000  \n",
       "mean           3.138889  \n",
       "std            1.494278  \n",
       "min            1.000000  \n",
       "25%            2.000000  \n",
       "50%            3.000000  \n",
       "75%            5.000000  \n",
       "max            5.000000  "
      ]
     },
     "execution_count": 44,
     "metadata": {},
     "output_type": "execute_result"
    }
   ],
   "source": [
    "MBuseRank.describe()"
   ]
  },
  {
   "cell_type": "code",
   "execution_count": null,
   "metadata": {},
   "outputs": [],
   "source": []
  },
  {
   "cell_type": "markdown",
   "metadata": {},
   "source": [
    "# Understanding satisfaction levels of users"
   ]
  },
  {
   "cell_type": "code",
   "execution_count": 45,
   "metadata": {},
   "outputs": [
    {
     "data": {
      "text/html": [
       "<div>\n",
       "<style scoped>\n",
       "    .dataframe tbody tr th:only-of-type {\n",
       "        vertical-align: middle;\n",
       "    }\n",
       "\n",
       "    .dataframe tbody tr th {\n",
       "        vertical-align: top;\n",
       "    }\n",
       "\n",
       "    .dataframe thead th {\n",
       "        text-align: right;\n",
       "    }\n",
       "</style>\n",
       "<table border=\"1\" class=\"dataframe\">\n",
       "  <thead>\n",
       "    <tr style=\"text-align: right;\">\n",
       "      <th></th>\n",
       "      <th>No</th>\n",
       "      <th>Gender</th>\n",
       "      <th>Age</th>\n",
       "      <th>Ethnicity</th>\n",
       "      <th>Location</th>\n",
       "      <th>Education</th>\n",
       "      <th>Employment</th>\n",
       "      <th>Income</th>\n",
       "      <th>Usage</th>\n",
       "      <th>Duration</th>\n",
       "      <th>...</th>\n",
       "      <th>Functionality Awareness LS</th>\n",
       "      <th>Functionality Usage LS</th>\n",
       "      <th>Availablity LS</th>\n",
       "      <th>BP Support LS</th>\n",
       "      <th>Charges LS</th>\n",
       "      <th>Time Saving LS</th>\n",
       "      <th>Score</th>\n",
       "      <th>Reason for Score</th>\n",
       "      <th>Use</th>\n",
       "      <th>NewIncome</th>\n",
       "    </tr>\n",
       "  </thead>\n",
       "  <tbody>\n",
       "    <tr>\n",
       "      <th>0</th>\n",
       "      <td>1</td>\n",
       "      <td>Male</td>\n",
       "      <td>24-39</td>\n",
       "      <td>Sinhalese</td>\n",
       "      <td>Colombo</td>\n",
       "      <td>Degree or Equivalent or higher</td>\n",
       "      <td>Employed in Private Sector</td>\n",
       "      <td>Rs 50,001-Rs 100,000</td>\n",
       "      <td>Yes</td>\n",
       "      <td>1-5 Years</td>\n",
       "      <td>...</td>\n",
       "      <td>4</td>\n",
       "      <td>3</td>\n",
       "      <td>5</td>\n",
       "      <td>3</td>\n",
       "      <td>5</td>\n",
       "      <td>5</td>\n",
       "      <td>8.0</td>\n",
       "      <td>Easy handling</td>\n",
       "      <td>1</td>\n",
       "      <td>Below100K</td>\n",
       "    </tr>\n",
       "    <tr>\n",
       "      <th>1</th>\n",
       "      <td>2</td>\n",
       "      <td>Male</td>\n",
       "      <td>24-39</td>\n",
       "      <td>Sinhalese</td>\n",
       "      <td>Kalutara</td>\n",
       "      <td>Degree or Equivalent or higher</td>\n",
       "      <td>Employed in Private Sector</td>\n",
       "      <td>Rs 50,001-Rs 100,000</td>\n",
       "      <td>Yes</td>\n",
       "      <td>Less than 1 Year</td>\n",
       "      <td>...</td>\n",
       "      <td>2</td>\n",
       "      <td>1</td>\n",
       "      <td>4</td>\n",
       "      <td>4</td>\n",
       "      <td>3</td>\n",
       "      <td>2</td>\n",
       "      <td>10.0</td>\n",
       "      <td>24 hour usage and time saving</td>\n",
       "      <td>1</td>\n",
       "      <td>Below100K</td>\n",
       "    </tr>\n",
       "    <tr>\n",
       "      <th>2</th>\n",
       "      <td>3</td>\n",
       "      <td>Male</td>\n",
       "      <td>24-39</td>\n",
       "      <td>Sinhalese</td>\n",
       "      <td>Colombo</td>\n",
       "      <td>Degree or Equivalent or higher</td>\n",
       "      <td>Employed in Public Sector</td>\n",
       "      <td>Rs 50,001-Rs 100,000</td>\n",
       "      <td>Yes</td>\n",
       "      <td>1-5 Years</td>\n",
       "      <td>...</td>\n",
       "      <td>4</td>\n",
       "      <td>3</td>\n",
       "      <td>4</td>\n",
       "      <td>4</td>\n",
       "      <td>4</td>\n",
       "      <td>4</td>\n",
       "      <td>10.0</td>\n",
       "      <td>Convenience and ease</td>\n",
       "      <td>1</td>\n",
       "      <td>Below100K</td>\n",
       "    </tr>\n",
       "    <tr>\n",
       "      <th>3</th>\n",
       "      <td>4</td>\n",
       "      <td>Male</td>\n",
       "      <td>24-39</td>\n",
       "      <td>Muslim</td>\n",
       "      <td>Colombo</td>\n",
       "      <td>Degree or Equivalent or higher</td>\n",
       "      <td>Self-employed</td>\n",
       "      <td>Above Rs 100,000</td>\n",
       "      <td>Yes</td>\n",
       "      <td>6-10 Years</td>\n",
       "      <td>...</td>\n",
       "      <td>4</td>\n",
       "      <td>2</td>\n",
       "      <td>5</td>\n",
       "      <td>4</td>\n",
       "      <td>4</td>\n",
       "      <td>5</td>\n",
       "      <td>10.0</td>\n",
       "      <td>NaN</td>\n",
       "      <td>1</td>\n",
       "      <td>Above100K</td>\n",
       "    </tr>\n",
       "    <tr>\n",
       "      <th>4</th>\n",
       "      <td>5</td>\n",
       "      <td>Male</td>\n",
       "      <td>24-39</td>\n",
       "      <td>Muslim</td>\n",
       "      <td>Colombo</td>\n",
       "      <td>Degree or Equivalent or higher</td>\n",
       "      <td>Unemployed</td>\n",
       "      <td>Prefer not to answer</td>\n",
       "      <td>Yes</td>\n",
       "      <td>Less than 1 Year</td>\n",
       "      <td>...</td>\n",
       "      <td>4</td>\n",
       "      <td>3</td>\n",
       "      <td>4</td>\n",
       "      <td>4</td>\n",
       "      <td>5</td>\n",
       "      <td>5</td>\n",
       "      <td>6.0</td>\n",
       "      <td>It depends on their level of understanding of ...</td>\n",
       "      <td>1</td>\n",
       "      <td>Prefer not to answer</td>\n",
       "    </tr>\n",
       "  </tbody>\n",
       "</table>\n",
       "<p>5 rows × 32 columns</p>\n",
       "</div>"
      ],
      "text/plain": [
       "   No Gender    Age  Ethnicity  Location                       Education  \\\n",
       "0   1   Male  24-39  Sinhalese   Colombo  Degree or Equivalent or higher   \n",
       "1   2   Male  24-39  Sinhalese  Kalutara  Degree or Equivalent or higher   \n",
       "2   3   Male  24-39  Sinhalese   Colombo  Degree or Equivalent or higher   \n",
       "3   4   Male  24-39     Muslim   Colombo  Degree or Equivalent or higher   \n",
       "4   5   Male  24-39     Muslim   Colombo  Degree or Equivalent or higher   \n",
       "\n",
       "                   Employment                Income Usage          Duration  \\\n",
       "0  Employed in Private Sector  Rs 50,001-Rs 100,000   Yes         1-5 Years   \n",
       "1  Employed in Private Sector  Rs 50,001-Rs 100,000   Yes  Less than 1 Year   \n",
       "2   Employed in Public Sector  Rs 50,001-Rs 100,000   Yes         1-5 Years   \n",
       "3               Self-employed      Above Rs 100,000   Yes        6-10 Years   \n",
       "4                  Unemployed  Prefer not to answer   Yes  Less than 1 Year   \n",
       "\n",
       "   ... Functionality Awareness LS Functionality Usage LS  Availablity LS  \\\n",
       "0  ...                          4                      3               5   \n",
       "1  ...                          2                      1               4   \n",
       "2  ...                          4                      3               4   \n",
       "3  ...                          4                      2               5   \n",
       "4  ...                          4                      3               4   \n",
       "\n",
       "   BP Support LS  Charges LS  Time Saving LS  Score  \\\n",
       "0              3           5               5    8.0   \n",
       "1              4           3               2   10.0   \n",
       "2              4           4               4   10.0   \n",
       "3              4           4               5   10.0   \n",
       "4              4           5               5    6.0   \n",
       "\n",
       "                                    Reason for Score  Use  \\\n",
       "0                                      Easy handling    1   \n",
       "1                      24 hour usage and time saving    1   \n",
       "2                               Convenience and ease    1   \n",
       "3                                                NaN    1   \n",
       "4  It depends on their level of understanding of ...    1   \n",
       "\n",
       "              NewIncome  \n",
       "0             Below100K  \n",
       "1             Below100K  \n",
       "2             Below100K  \n",
       "3             Above100K  \n",
       "4  Prefer not to answer  \n",
       "\n",
       "[5 rows x 32 columns]"
      ]
     },
     "execution_count": 45,
     "metadata": {},
     "output_type": "execute_result"
    }
   ],
   "source": [
    "MBankUse=MBankUse.replace(['Strongly Disagree', 'Disagree', 'Neutral', 'Agree', 'Strongly Agree'], \n",
    "                     [1, 2, 3, 4, 5])\n",
    "\n",
    "MBankUse.head()"
   ]
  },
  {
   "cell_type": "code",
   "execution_count": 46,
   "metadata": {},
   "outputs": [],
   "source": [
    "MBankUse['User Experience'] = (MBankUse['Ease of Use LS']+MBankUse['UI LS'])/2"
   ]
  },
  {
   "cell_type": "code",
   "execution_count": 47,
   "metadata": {},
   "outputs": [],
   "source": [
    "MBankUse['Security'] = (MBankUse['Security Threats LS']+MBankUse['Security Feastures LS']+MBankUse['Data Security LS'])/3"
   ]
  },
  {
   "cell_type": "code",
   "execution_count": 48,
   "metadata": {},
   "outputs": [],
   "source": [
    "MBankUse['Functionalities']=(MBankUse['Functionality Awareness LS']+MBankUse['Functionality Usage LS'])/2\n"
   ]
  },
  {
   "cell_type": "code",
   "execution_count": 49,
   "metadata": {},
   "outputs": [],
   "source": [
    "MBankUse['Customer Support']=(MBankUse['BP Support LS']+MBankUse['Charges LS'])/2"
   ]
  },
  {
   "cell_type": "code",
   "execution_count": 50,
   "metadata": {},
   "outputs": [],
   "source": [
    "MBankUse['Time Saving']=(MBankUse['Availablity LS']+MBankUse['Time Saving LS'])/2"
   ]
  },
  {
   "cell_type": "code",
   "execution_count": 51,
   "metadata": {},
   "outputs": [],
   "source": [
    "MBuseSatisfaction = MBankUse[['User Experience','Security','Functionalities','Customer Support','Time Saving']]"
   ]
  },
  {
   "cell_type": "code",
   "execution_count": 52,
   "metadata": {},
   "outputs": [
    {
     "data": {
      "text/html": [
       "<div>\n",
       "<style scoped>\n",
       "    .dataframe tbody tr th:only-of-type {\n",
       "        vertical-align: middle;\n",
       "    }\n",
       "\n",
       "    .dataframe tbody tr th {\n",
       "        vertical-align: top;\n",
       "    }\n",
       "\n",
       "    .dataframe thead th {\n",
       "        text-align: right;\n",
       "    }\n",
       "</style>\n",
       "<table border=\"1\" class=\"dataframe\">\n",
       "  <thead>\n",
       "    <tr style=\"text-align: right;\">\n",
       "      <th></th>\n",
       "      <th>User Experience</th>\n",
       "      <th>Security</th>\n",
       "      <th>Functionalities</th>\n",
       "      <th>Customer Support</th>\n",
       "      <th>Time Saving</th>\n",
       "    </tr>\n",
       "  </thead>\n",
       "  <tbody>\n",
       "    <tr>\n",
       "      <th>0</th>\n",
       "      <td>5.0</td>\n",
       "      <td>3.000000</td>\n",
       "      <td>3.5</td>\n",
       "      <td>4.0</td>\n",
       "      <td>5.0</td>\n",
       "    </tr>\n",
       "    <tr>\n",
       "      <th>1</th>\n",
       "      <td>2.5</td>\n",
       "      <td>3.333333</td>\n",
       "      <td>1.5</td>\n",
       "      <td>3.5</td>\n",
       "      <td>3.0</td>\n",
       "    </tr>\n",
       "    <tr>\n",
       "      <th>2</th>\n",
       "      <td>4.0</td>\n",
       "      <td>4.333333</td>\n",
       "      <td>3.5</td>\n",
       "      <td>4.0</td>\n",
       "      <td>4.0</td>\n",
       "    </tr>\n",
       "    <tr>\n",
       "      <th>3</th>\n",
       "      <td>4.0</td>\n",
       "      <td>4.666667</td>\n",
       "      <td>3.0</td>\n",
       "      <td>4.0</td>\n",
       "      <td>5.0</td>\n",
       "    </tr>\n",
       "    <tr>\n",
       "      <th>4</th>\n",
       "      <td>5.0</td>\n",
       "      <td>4.333333</td>\n",
       "      <td>3.5</td>\n",
       "      <td>4.5</td>\n",
       "      <td>4.5</td>\n",
       "    </tr>\n",
       "  </tbody>\n",
       "</table>\n",
       "</div>"
      ],
      "text/plain": [
       "   User Experience  Security  Functionalities  Customer Support  Time Saving\n",
       "0              5.0  3.000000              3.5               4.0          5.0\n",
       "1              2.5  3.333333              1.5               3.5          3.0\n",
       "2              4.0  4.333333              3.5               4.0          4.0\n",
       "3              4.0  4.666667              3.0               4.0          5.0\n",
       "4              5.0  4.333333              3.5               4.5          4.5"
      ]
     },
     "execution_count": 52,
     "metadata": {},
     "output_type": "execute_result"
    }
   ],
   "source": [
    "MBuseSatisfaction.head(5)"
   ]
  },
  {
   "cell_type": "code",
   "execution_count": 53,
   "metadata": {},
   "outputs": [
    {
     "data": {
      "image/png": "[encoded data removed]",
      "text/plain": [
       "<Figure size 864x360 with 1 Axes>"
      ]
     },
     "metadata": {},
     "output_type": "display_data"
    }
   ],
   "source": [
    "plt.figure(figsize=(12,5))\n",
    "\n",
    "sns.boxplot(x=\"variable\", y=\"value\", data=pd.melt(MBuseSatisfaction),palette=(\"Blues_d\"))\n",
    "plt.title('Satisfaction Score to each Factor')\n",
    "plt.ylabel('Satisfaction Score', fontsize=12)\n",
    "plt.xlabel('Feature', fontsize=12)\n",
    "plt.show()"
   ]
  },
  {
   "cell_type": "code",
   "execution_count": 54,
   "metadata": {},
   "outputs": [
    {
     "data": {
      "text/plain": [
       "8.0     34\n",
       "10.0    28\n",
       "9.0     21\n",
       "6.0     12\n",
       "7.0      7\n",
       "5.0      6\n",
       "Name: Score, dtype: int64"
      ]
     },
     "execution_count": 54,
     "metadata": {},
     "output_type": "execute_result"
    }
   ],
   "source": [
    "ScoreCount = MBankUse['Score'].value_counts()\n",
    "ScoreCount"
   ]
  },
  {
   "cell_type": "code",
   "execution_count": 55,
   "metadata": {},
   "outputs": [
    {
     "data": {
      "text/plain": [
       "Text(0.5, 0, 'Likelyhood Score')"
      ]
     },
     "execution_count": 55,
     "metadata": {},
     "output_type": "execute_result"
    },
    {
     "data": {
      "image/png": "[encoded data removed]",
      "text/plain": [
       "<Figure size 720x360 with 1 Axes>"
      ]
     },
     "metadata": {},
     "output_type": "display_data"
    }
   ],
   "source": [
    "plt.figure(figsize=(10,5))\n",
    "sns.barplot(x=ScoreCount.index, y=ScoreCount.values,orient=\"v\",palette=(\"Blues_d\"))\n",
    "plt.title('Frequency of Likeyhood Score')\n",
    "plt.ylabel('Frequecy', fontsize=12)\n",
    "plt.xlabel('Likelyhood Score', fontsize=12)"
   ]
  },
  {
   "cell_type": "code",
   "execution_count": 56,
   "metadata": {},
   "outputs": [],
   "source": [
    "MBankUse['LikelyhoodScoreCat']=MBankUse['Score'].apply(lambda x: \"High\" if x>=8 else \"Low\")"
   ]
  },
  {
   "cell_type": "code",
   "execution_count": 57,
   "metadata": {},
   "outputs": [
    {
     "data": {
      "text/plain": [
       "High    83\n",
       "Low     25\n",
       "Name: LikelyhoodScoreCat, dtype: int64"
      ]
     },
     "execution_count": 57,
     "metadata": {},
     "output_type": "execute_result"
    }
   ],
   "source": [
    "MBankUse['LikelyhoodScoreCat'].value_counts()"
   ]
  },
  {
   "cell_type": "code",
   "execution_count": 58,
   "metadata": {},
   "outputs": [
    {
     "data": {
      "text/plain": [
       "LikelyhoodScoreCat\n",
       "High    3.987952\n",
       "Low     3.333333\n",
       "Name: Security, dtype: float64"
      ]
     },
     "execution_count": 58,
     "metadata": {},
     "output_type": "execute_result"
    }
   ],
   "source": [
    "MBankUse[['Security','LikelyhoodScoreCat']].groupby('LikelyhoodScoreCat')['Security'].mean()"
   ]
  },
  {
   "cell_type": "code",
   "execution_count": 59,
   "metadata": {},
   "outputs": [
    {
     "data": {
      "text/plain": [
       "LikelyhoodScoreCat\n",
       "High    4.078313\n",
       "Low     3.660000\n",
       "Name: User Experience, dtype: float64"
      ]
     },
     "execution_count": 59,
     "metadata": {},
     "output_type": "execute_result"
    }
   ],
   "source": [
    "MBankUse[['User Experience','LikelyhoodScoreCat']].groupby('LikelyhoodScoreCat')['User Experience'].mean()"
   ]
  },
  {
   "cell_type": "code",
   "execution_count": 60,
   "metadata": {},
   "outputs": [
    {
     "data": {
      "text/plain": [
       "LikelyhoodScoreCat\n",
       "High    3.493976\n",
       "Low     2.860000\n",
       "Name: Functionalities, dtype: float64"
      ]
     },
     "execution_count": 60,
     "metadata": {},
     "output_type": "execute_result"
    }
   ],
   "source": [
    "MBankUse[['Functionalities','LikelyhoodScoreCat']].groupby('LikelyhoodScoreCat')['Functionalities'].mean() "
   ]
  },
  {
   "cell_type": "code",
   "execution_count": 61,
   "metadata": {},
   "outputs": [
    {
     "name": "stderr",
     "output_type": "stream",
     "text": [
      "<ipython-input-61-68cd5b8db128>:1: FutureWarning: Indexing with multiple keys (implicitly converted to a tuple of keys) will be deprecated, use a list instead.\n",
      "  MBankUse.groupby('LikelyhoodScoreCat')['User Experience','Security','Functionalities','Customer Support','Time Saving'].mean()\n"
     ]
    },
    {
     "data": {
      "text/html": [
       "<div>\n",
       "<style scoped>\n",
       "    .dataframe tbody tr th:only-of-type {\n",
       "        vertical-align: middle;\n",
       "    }\n",
       "\n",
       "    .dataframe tbody tr th {\n",
       "        vertical-align: top;\n",
       "    }\n",
       "\n",
       "    .dataframe thead th {\n",
       "        text-align: right;\n",
       "    }\n",
       "</style>\n",
       "<table border=\"1\" class=\"dataframe\">\n",
       "  <thead>\n",
       "    <tr style=\"text-align: right;\">\n",
       "      <th></th>\n",
       "      <th>User Experience</th>\n",
       "      <th>Security</th>\n",
       "      <th>Functionalities</th>\n",
       "      <th>Customer Support</th>\n",
       "      <th>Time Saving</th>\n",
       "    </tr>\n",
       "    <tr>\n",
       "      <th>LikelyhoodScoreCat</th>\n",
       "      <th></th>\n",
       "      <th></th>\n",
       "      <th></th>\n",
       "      <th></th>\n",
       "      <th></th>\n",
       "    </tr>\n",
       "  </thead>\n",
       "  <tbody>\n",
       "    <tr>\n",
       "      <th>High</th>\n",
       "      <td>4.078313</td>\n",
       "      <td>3.987952</td>\n",
       "      <td>3.493976</td>\n",
       "      <td>3.825301</td>\n",
       "      <td>4.542169</td>\n",
       "    </tr>\n",
       "    <tr>\n",
       "      <th>Low</th>\n",
       "      <td>3.660000</td>\n",
       "      <td>3.333333</td>\n",
       "      <td>2.860000</td>\n",
       "      <td>3.040000</td>\n",
       "      <td>4.080000</td>\n",
       "    </tr>\n",
       "  </tbody>\n",
       "</table>\n",
       "</div>"
      ],
      "text/plain": [
       "                    User Experience  Security  Functionalities  \\\n",
       "LikelyhoodScoreCat                                               \n",
       "High                       4.078313  3.987952         3.493976   \n",
       "Low                        3.660000  3.333333         2.860000   \n",
       "\n",
       "                    Customer Support  Time Saving  \n",
       "LikelyhoodScoreCat                                 \n",
       "High                        3.825301     4.542169  \n",
       "Low                         3.040000     4.080000  "
      ]
     },
     "execution_count": 61,
     "metadata": {},
     "output_type": "execute_result"
    }
   ],
   "source": [
    "MBankUse.groupby('LikelyhoodScoreCat')['User Experience','Security','Functionalities','Customer Support','Time Saving'].mean() "
   ]
  },
  {
   "cell_type": "code",
   "execution_count": 62,
   "metadata": {},
   "outputs": [
    {
     "name": "stderr",
     "output_type": "stream",
     "text": [
      "<ipython-input-62-e65739ffcf18>:1: FutureWarning: Indexing with multiple keys (implicitly converted to a tuple of keys) will be deprecated, use a list instead.\n",
      "  MBankUse.groupby('LikelyhoodScoreCat')['User Experience','Security','Functionalities','Customer Support','Time Saving'].agg(np.std)\n"
     ]
    },
    {
     "data": {
      "text/html": [
       "<div>\n",
       "<style scoped>\n",
       "    .dataframe tbody tr th:only-of-type {\n",
       "        vertical-align: middle;\n",
       "    }\n",
       "\n",
       "    .dataframe tbody tr th {\n",
       "        vertical-align: top;\n",
       "    }\n",
       "\n",
       "    .dataframe thead th {\n",
       "        text-align: right;\n",
       "    }\n",
       "</style>\n",
       "<table border=\"1\" class=\"dataframe\">\n",
       "  <thead>\n",
       "    <tr style=\"text-align: right;\">\n",
       "      <th></th>\n",
       "      <th>User Experience</th>\n",
       "      <th>Security</th>\n",
       "      <th>Functionalities</th>\n",
       "      <th>Customer Support</th>\n",
       "      <th>Time Saving</th>\n",
       "    </tr>\n",
       "    <tr>\n",
       "      <th>LikelyhoodScoreCat</th>\n",
       "      <th></th>\n",
       "      <th></th>\n",
       "      <th></th>\n",
       "      <th></th>\n",
       "      <th></th>\n",
       "    </tr>\n",
       "  </thead>\n",
       "  <tbody>\n",
       "    <tr>\n",
       "      <th>High</th>\n",
       "      <td>0.673913</td>\n",
       "      <td>0.612529</td>\n",
       "      <td>0.746920</td>\n",
       "      <td>0.700321</td>\n",
       "      <td>0.625694</td>\n",
       "    </tr>\n",
       "    <tr>\n",
       "      <th>Low</th>\n",
       "      <td>0.800000</td>\n",
       "      <td>0.527046</td>\n",
       "      <td>0.848037</td>\n",
       "      <td>0.802600</td>\n",
       "      <td>0.687386</td>\n",
       "    </tr>\n",
       "  </tbody>\n",
       "</table>\n",
       "</div>"
      ],
      "text/plain": [
       "                    User Experience  Security  Functionalities  \\\n",
       "LikelyhoodScoreCat                                               \n",
       "High                       0.673913  0.612529         0.746920   \n",
       "Low                        0.800000  0.527046         0.848037   \n",
       "\n",
       "                    Customer Support  Time Saving  \n",
       "LikelyhoodScoreCat                                 \n",
       "High                        0.700321     0.625694  \n",
       "Low                         0.802600     0.687386  "
      ]
     },
     "execution_count": 62,
     "metadata": {},
     "output_type": "execute_result"
    }
   ],
   "source": [
    "MBankUse.groupby('LikelyhoodScoreCat')['User Experience','Security','Functionalities','Customer Support','Time Saving'].agg(np.std)"
   ]
  },
  {
   "cell_type": "code",
   "execution_count": null,
   "metadata": {},
   "outputs": [],
   "source": []
  }
 ],
 "metadata": {
  "kernelspec": {
   "display_name": "Python 3",
   "language": "python",
   "name": "python3"
  },
  "language_info": {
   "codemirror_mode": {
    "name": "ipython",
    "version": 3
   },
   "file_extension": ".py",
   "mimetype": "text/x-python",
   "name": "python",
   "nbconvert_exporter": "python",
   "pygments_lexer": "ipython3",
   "version": "3.8.5"
  }
 },
 "nbformat": 4,
 "nbformat_minor": 4
}
